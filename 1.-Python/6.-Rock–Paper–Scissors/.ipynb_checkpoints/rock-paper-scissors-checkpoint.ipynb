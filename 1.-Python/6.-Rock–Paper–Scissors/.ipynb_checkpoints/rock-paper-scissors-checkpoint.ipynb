{
 "cells": [
  {
   "cell_type": "markdown",
   "metadata": {},
   "source": [
    "<img src=\"https://bit.ly/2VnXWr2\" width=\"100\" align=\"left\">"
   ]
  },
  {
   "cell_type": "markdown",
   "metadata": {},
   "source": [
    "# Rock, Paper & Scissors\n",
    "\n",
    "Let's play the famous game against our computer. You can check the rules [here](https://en.wikipedia.org/wiki/Rock%E2%80%93paper%E2%80%93scissors). \n",
    "\n",
    "## Task\n",
    "Create a program that imitates the playability of the well known game of rock, paper, scissors. Follow the guidelines provided.\n",
    "\n",
    "## Tools\n",
    "1. Loop: **for/while**\n",
    "2. Functions: **input(), print()...**\n",
    "3. Conditional statements: **if, elif, else**\n",
    "4. Definition of functions. Modular programming\n",
    "5. Import modules\n",
    "\n",
    "**To solve this challenge, the use of functions is recommended.**\n",
    "\n",
    "#### 1. Import the choice function of the random module."
   ]
  },
  {
   "cell_type": "code",
   "execution_count": 2,
   "metadata": {},
   "outputs": [],
   "source": [
    "import random"
   ]
  },
  {
   "cell_type": "markdown",
   "metadata": {},
   "source": [
    "#### 2. Create a list that includes the 3 possible gesture options of the game: 'rock', 'paper' or 'scissors'. Store the list in a variable called `gestures`."
   ]
  },
  {
   "cell_type": "code",
   "execution_count": 3,
   "metadata": {},
   "outputs": [],
   "source": [
    "gestures = [\"rock\", \"paper\", \"scissors\"]"
   ]
  },
  {
   "cell_type": "markdown",
   "metadata": {},
   "source": [
    "#### 3. Create a variable called `n_rounds` to store the maximum number of rounds to play in a game. \n",
    "Remember that the number of rounds must be odd: 1, 3, 5, ..."
   ]
  },
  {
   "cell_type": "code",
   "execution_count": 4,
   "metadata": {},
   "outputs": [
    {
     "name": "stdout",
     "output_type": "stream",
     "text": [
      "How many rounds would you like to play? (Please choose an odd number)\n",
      "5\n",
      "Playing 5 rounds\n"
     ]
    }
   ],
   "source": [
    "n_rounds = 0\n",
    "print (\"How many rounds would you like to play? (Please choose an odd number)\")\n",
    "while True:\n",
    "    \n",
    "    n_rounds = input()\n",
    "    if n_rounds.isdigit():\n",
    "            n_rounds = int(n_rounds)\n",
    "            if n_rounds % 2 != 0 and n_rounds > 0:\n",
    "                break\n",
    "            else:\n",
    "                print (\"Please try again\")\n",
    "    else:\n",
    "            print (\"Please try again\")\n",
    "        \n",
    "print (\"Playing\", n_rounds, \"rounds\")"
   ]
  },
  {
   "cell_type": "markdown",
   "metadata": {},
   "source": [
    "#### 4. Create a variable called `rounds_to_win` to store the number of rounds that a player must win to win the game.\n",
    "**Hint**: the value stored in `rounds_to_win` depends on the value of `n_rounds`. "
   ]
  },
  {
   "cell_type": "code",
   "execution_count": 5,
   "metadata": {},
   "outputs": [
    {
     "name": "stdout",
     "output_type": "stream",
     "text": [
      "The first player to 3 wins the game\n"
     ]
    }
   ],
   "source": [
    "rounds_to_win = int(n_rounds/2 + 1)\n",
    "print (\"The first player to\", rounds_to_win, \"wins the game\")"
   ]
  },
  {
   "cell_type": "markdown",
   "metadata": {},
   "source": [
    "#### 5. Create two variables to store the number of rounds that the computer and the player have won. Call these variables `cpu_score` and `player_score`."
   ]
  },
  {
   "cell_type": "code",
   "execution_count": 6,
   "metadata": {},
   "outputs": [],
   "source": [
    "cpu_score=0\n",
    "player_score=0"
   ]
  },
  {
   "cell_type": "markdown",
   "metadata": {},
   "source": [
    "#### 6. Define a function that randomly returns one of the 3 gesture options.\n",
    "You will use this function to simulate the gesture choice of the computer. "
   ]
  },
  {
   "cell_type": "code",
   "execution_count": 7,
   "metadata": {},
   "outputs": [
    {
     "name": "stdout",
     "output_type": "stream",
     "text": [
      "rock\n"
     ]
    }
   ],
   "source": [
    "def computer_choice ():\n",
    "    return random.choice(gestures)\n",
    "print (computer_choice())"
   ]
  },
  {
   "cell_type": "markdown",
   "metadata": {},
   "source": [
    "#### 7. Define a function that asks the player which is the gesture he or she wants to show: 'rock', 'paper' or 'scissors'.\n",
    "The player should only be allowed to choose one of the 3 gesture options. If the player's choice is not rock, paper or scissors, keep asking until it is."
   ]
  },
  {
   "cell_type": "code",
   "execution_count": 8,
   "metadata": {},
   "outputs": [
    {
     "name": "stdout",
     "output_type": "stream",
     "text": [
      "Choose rock, paper or scissors...\n",
      "rock\n"
     ]
    }
   ],
   "source": [
    "player_choice = \"\"\n",
    "print (\"Choose rock, paper or scissors...\")\n",
    "\n",
    "while True:\n",
    "    \n",
    "    player_choice=input()\n",
    "    if player_choice == \"rock\" or player_choice == \"paper\" or player_choice == \"scissors\":\n",
    "        break\n",
    "    else:\n",
    "        print (\"Please try again\")\n",
    "        \n",
    " "
   ]
  },
  {
   "cell_type": "markdown",
   "metadata": {},
   "source": [
    "#### 8. Define a function that checks who won a round. \n",
    "The function should return 0 if there is a tie, 1 if the computer wins and 2 if the player wins."
   ]
  },
  {
   "cell_type": "code",
   "execution_count": 9,
   "metadata": {},
   "outputs": [
    {
     "name": "stdout",
     "output_type": "stream",
     "text": [
      "rock rock\n"
     ]
    }
   ],
   "source": [
    "def who_won(comp, player):\n",
    "    if comp == \"rock\":\n",
    "        if player == \"rock\":\n",
    "            return 0\n",
    "        elif player == \"paper\":\n",
    "            return 2\n",
    "        elif player == \"scissors\":\n",
    "            return 1\n",
    "    elif comp == \"paper\":\n",
    "        if player == \"rock\":\n",
    "            return 1\n",
    "        elif player == \"paper\":\n",
    "            return 0\n",
    "        elif player == \"scissors\":\n",
    "            return 2\n",
    "    elif comp == \"scissors\":\n",
    "        if player == \"rock\":\n",
    "            return 2\n",
    "        elif player == \"paper\":\n",
    "            return 1\n",
    "        elif player == \"scissors\":\n",
    "            return 0\n",
    "        \n",
    "print (computer_choice(), player_choice)"
   ]
  },
  {
   "cell_type": "markdown",
   "metadata": {},
   "source": [
    "#### 9. Define a function that prints the choice of the computer, the choice of the player and a message that announces who won the current round. \n",
    "You should also use this function to update the variables that count the number of rounds that the computer and the player have won. The score of the winner increases by one point. If there is a tie, the score does not increase."
   ]
  },
  {
   "cell_type": "code",
   "execution_count": 10,
   "metadata": {},
   "outputs": [],
   "source": [
    "def end_of_round(comp, player):\n",
    "    print (\"The computer chose\", comp, \"and the player chose\", player)\n",
    "    \n",
    "    round_winner = who_won(comp, player)\n",
    "    \n",
    "    if round_winner == 0:\n",
    "        print (\"Tie\")\n",
    "        cpu_score = 0\n",
    "        player_score = 0\n",
    "    elif round_winner == 1:\n",
    "        print (\"Computer wins the round\")\n",
    "        cpu_score=1\n",
    "        player_score = 0\n",
    "    elif round_winner == 2:\n",
    "        print (\"Player wins the round\")\n",
    "        cpu_score = 0\n",
    "        player_score=1\n",
    "    return (cpu_score, player_score)\n",
    "    \n",
    "\n"
   ]
  },
  {
   "cell_type": "markdown",
   "metadata": {},
   "source": [
    "#### 10. Now it's time to code the execution of the game using the functions and variables you defined above. \n",
    "\n",
    "First, create a loop structure that repeats while no player reaches the minimum score necessary to win and the number of rounds is less than the maximum number of rounds to play in a game.  \n",
    "\n",
    "Inside the loop, use the functions and variables above to create the execution of a round: ask for the player's choice, generate the random choice of the computer, show the round results, update the scores, etc. "
   ]
  },
  {
   "cell_type": "code",
   "execution_count": 13,
   "metadata": {},
   "outputs": [
    {
     "name": "stdout",
     "output_type": "stream",
     "text": [
      "How many rounds would you like to play? (Please choose an odd number)\n",
      "3\n",
      "Playing 3 rounds\n",
      "Choose rock, paper or scissors...\n",
      "rock\n",
      "The computer chose paper and the player chose rock\n",
      "Computer wins the round\n",
      "Current scores are Computer: 1 Player: 0\n",
      "Choose rock, paper or scissors...\n",
      "paper\n",
      "The computer chose scissors and the player chose paper\n",
      "Computer wins the round\n",
      "Current scores are Computer: 2 Player: 0\n"
     ]
    }
   ],
   "source": [
    "n_rounds = 0\n",
    "rounds = 0\n",
    "cpu_score=0\n",
    "player_score=0\n",
    "\n",
    "print (\"How many rounds would you like to play? (Please choose an odd number)\")\n",
    "while True:\n",
    "    \n",
    "    n_rounds = input()\n",
    "    if n_rounds.isdigit():\n",
    "            n_rounds = int(n_rounds)\n",
    "            \n",
    "            if n_rounds % 2 != 0 and n_rounds > 0:\n",
    "                break\n",
    "            else:\n",
    "                print (\"Please choose an odd number\")\n",
    "    else:\n",
    "            print (\"Please choose an odd number\")\n",
    "        \n",
    "print (\"Playing\", n_rounds, \"rounds\")\n",
    "\n",
    "rounds_to_win = int(n_rounds/2 + 1)\n",
    "\n",
    "\n",
    "while cpu_score < rounds_to_win and player_score < rounds_to_win and rounds < n_rounds:\n",
    "\n",
    "    def computer_choice ():\n",
    "        return random.choice(gestures)\n",
    "    \n",
    "    player_choice = \"\"\n",
    "    print (\"Choose rock, paper or scissors...\")\n",
    "\n",
    "    while True:\n",
    "    \n",
    "        player_choice=input()\n",
    "        if player_choice == \"rock\" or player_choice == \"paper\" or player_choice == \"scissors\":\n",
    "            break\n",
    "        else:\n",
    "            print (\"Please try again\")\n",
    "            \n",
    "            \n",
    "    round_score = end_of_round(computer_choice(), player_choice)\n",
    "    cpu_score += round_score[0]\n",
    "    player_score += round_score[1]\n",
    "    rounds += 1\n",
    "    \n",
    "    print (\"Current scores are Computer:\", cpu_score, \"Player:\", player_score)\n",
    "    \n"
   ]
  },
  {
   "cell_type": "markdown",
   "metadata": {},
   "source": [
    "#### 11. Print the winner of the game based on who won more rounds.\n",
    "Remember that the game might be tied. "
   ]
  },
  {
   "cell_type": "code",
   "execution_count": 14,
   "metadata": {},
   "outputs": [
    {
     "name": "stdout",
     "output_type": "stream",
     "text": [
      "COMPUTER WINS THE GAME\n"
     ]
    }
   ],
   "source": [
    "    \n",
    "if cpu_score > player_score:\n",
    "    print (\"COMPUTER WINS THE GAME\")\n",
    "elif player_score > cpu_score:\n",
    "    print (\"PLAYER WINS THE GAME\")\n",
    "else:\n",
    "    print (\"THE GAME ENDS IN A TIE\")"
   ]
  },
  {
   "cell_type": "markdown",
   "metadata": {},
   "source": [
    "# Bonus: Rock, Paper, Scissors, Lizard & Spock\n",
    "![](images/rpsls.jpg)\n",
    "\n",
    "In this challenge, you need to improve the previous game by adding two new options. To know more about the rules of the improved version of rock, paper, scissors, check this [link](http://www.samkass.com/theories/RPSSL.html). \n",
    "\n",
    "In addition, you will also need to improve how the game interacts with the player: the number of rounds to play, which must be an odd number, will be requested to the user until a valid number is entered. Define a new function to make that request.\n",
    "\n",
    "**Hint**: Try to reuse the code that you already coded in the previous challenge. If your code is efficient, this bonus will only consist of simple modifications to the original game."
   ]
  },
  {
   "cell_type": "code",
   "execution_count": 12,
   "metadata": {
    "scrolled": true
   },
   "outputs": [
    {
     "name": "stdout",
     "output_type": "stream",
     "text": [
      "How many rounds would you like to play? (Please choose an odd number)\n",
      "7\n",
      "Playing 7 rounds\n",
      "Choose rock, paper, scissors, lizard or spock...\n",
      "lizard\n",
      "The computer chose lizard and the player chose lizard\n",
      "Tie\n",
      "Current scores are Computer: 0 Player: 0\n",
      "Choose rock, paper, scissors, lizard or spock...\n",
      "scissors\n",
      "The computer chose lizard and the player chose scissors\n",
      "Player wins the round\n",
      "Current scores are Computer: 0 Player: 1\n",
      "Choose rock, paper, scissors, lizard or spock...\n",
      "paper\n",
      "The computer chose rock and the player chose paper\n",
      "Player wins the round\n",
      "Current scores are Computer: 0 Player: 2\n",
      "Choose rock, paper, scissors, lizard or spock...\n",
      "rock\n",
      "The computer chose rock and the player chose rock\n",
      "Tie\n",
      "Current scores are Computer: 0 Player: 2\n",
      "Choose rock, paper, scissors, lizard or spock...\n",
      "scissors\n",
      "The computer chose scissors and the player chose scissors\n",
      "Tie\n",
      "Current scores are Computer: 0 Player: 2\n",
      "Choose rock, paper, scissors, lizard or spock...\n",
      "paper\n",
      "The computer chose paper and the player chose paper\n",
      "Tie\n",
      "Current scores are Computer: 0 Player: 2\n",
      "Choose rock, paper, scissors, lizard or spock...\n",
      "rock\n",
      "The computer chose scissors and the player chose rock\n",
      "Player wins the round\n",
      "Current scores are Computer: 0 Player: 3\n",
      "PLAYER WINS THE GAME\n"
     ]
    }
   ],
   "source": [
    "import random\n",
    "gestures = [\"rock\", \"paper\", \"scissors\", \"lizard\", \"spock\"]  #define the options\n",
    "n_rounds = 0          #set up variables                                    \n",
    "rounds = 0\n",
    "cpu_score=0\n",
    "player_score=0\n",
    "\n",
    "def computer_choice ():             #function where computer chooses random gesture\n",
    "    return random.choice(gestures)\n",
    "\n",
    "\n",
    "def who_won(comp, player):        #function to check who won. Returns 0 for a tie, 1 for computer win, 2 for player win\n",
    "    if comp == \"rock\":\n",
    "        if player == \"rock\":\n",
    "            return 0\n",
    "        elif player == \"paper\":\n",
    "            return 2\n",
    "        elif player == \"scissors\":\n",
    "            return 1\n",
    "        elif player == \"lizard\":\n",
    "            return 1\n",
    "        elif player == \"spock\":\n",
    "            return 2\n",
    "            \n",
    "    elif comp == \"paper\":\n",
    "        if player == \"rock\":\n",
    "            return 1\n",
    "        elif player == \"paper\":\n",
    "            return 0\n",
    "        elif player == \"scissors\":\n",
    "            return 2\n",
    "        elif player == \"lizard\":\n",
    "            return 2\n",
    "        elif player == \"spock\":\n",
    "            return 1\n",
    "        \n",
    "    elif comp == \"scissors\":\n",
    "        if player == \"rock\":\n",
    "            return 2\n",
    "        elif player == \"paper\":\n",
    "            return 1\n",
    "        elif player == \"scissors\":\n",
    "            return 0\n",
    "        elif player == \"lizard\":\n",
    "            return 2\n",
    "        elif player == \"spock\":\n",
    "            return 1\n",
    "        \n",
    "    elif comp == \"lizard\":\n",
    "        if player == \"rock\":\n",
    "            return 2\n",
    "        elif player == \"paper\":\n",
    "            return 1\n",
    "        elif player == \"scissors\":\n",
    "            return 2\n",
    "        elif player == \"lizard\":\n",
    "            return 0\n",
    "        elif player == \"spock\":\n",
    "            return 1\n",
    "        \n",
    "    elif comp == \"spock\":\n",
    "        if player == \"rock\":\n",
    "            return 1 \n",
    "        elif player == \"paper\":\n",
    "            return 2\n",
    "        elif player == \"scissors\":\n",
    "            return 1\n",
    "        elif player == \"lizard\":\n",
    "            return 2\n",
    "        elif player == \"spock\":\n",
    "            return 0\n",
    "        \n",
    "def end_of_round(comp, player):    #function to check who won and send back the scores\n",
    "    \n",
    "    print (\"The computer chose\", comp, \"and the player chose\", player) #tells the player what each player chose\n",
    "    \n",
    "    round_winner = who_won(comp, player)   #fetches the score from the who_won function\n",
    "    \n",
    "    if round_winner == 0:   #for a tie\n",
    "        print (\"Tie\")\n",
    "        cpu_score = 0\n",
    "        player_score = 0\n",
    "    elif round_winner == 1:   #for a computer win\n",
    "        print (\"Computer wins the round\")\n",
    "        cpu_score=1\n",
    "        player_score = 0\n",
    "    elif round_winner == 2:    #for a player win\n",
    "        print (\"Player wins the round\")\n",
    "        cpu_score = 0\n",
    "        player_score=1\n",
    "    return (cpu_score, player_score)   #returns the score for the round\n",
    "        \n",
    "print (\"How many rounds would you like to play? (Please choose an odd number)\")      \n",
    "while True:         #loop to check if input is valid\n",
    "    \n",
    "    n_rounds = input()        #user inputs number of rounds\n",
    "    if n_rounds.isdigit():           #if the number is a digit then check that it's an odd number\n",
    "            n_rounds = int(n_rounds)\n",
    "            if n_rounds % 2 != 0 and n_rounds > 0:\n",
    "                break\n",
    "            else:\n",
    "                print (\"Please choose an odd number\")     #if it's not an odd number asks the player to try again\n",
    "    else:\n",
    "            print (\"Please choose an odd number\")    #if it's not a digit asks the player to try again\n",
    "        \n",
    "print (\"Playing\", n_rounds, \"rounds\")          #confirms how many rounds will be played\n",
    "\n",
    "rounds_to_win = int(n_rounds/2 + 1)    #defines what score is needed to win the game\n",
    "\n",
    "        \n",
    "while cpu_score < rounds_to_win and player_score < rounds_to_win and rounds < n_rounds:   #checks if either player has reached the winning score or if the chosen number of rounds has been reached\n",
    "\n",
    "    def computer_choice ():                        #computer's turn\n",
    "        return random.choice(gestures)\n",
    "    \n",
    "    player_choice = \"\"\n",
    "    print (\"Choose rock, paper, scissors, lizard or spock...\")      \n",
    "\n",
    "    while True:                 #player's turn. This loop checks if the input is valid\n",
    "    \n",
    "        player_choice=input()\n",
    "        if player_choice == \"rock\" or player_choice == \"paper\" or player_choice == \"scissors\"or player_choice== \"lizard\" or player_choice == \"spock\":\n",
    "            break\n",
    "        else:\n",
    "            print (\"Please try again\")\n",
    "            \n",
    "            \n",
    "    round_score = end_of_round(computer_choice(), player_choice)     #sends the choices to the end_of_round function to find the score for the round\n",
    "    cpu_score += round_score[0]          #adds the round score to the total score\n",
    "    player_score += round_score[1]       \n",
    "    rounds += 1                     #increases the round counter\n",
    "    \n",
    "    print (\"Current scores are Computer:\", cpu_score, \"Player:\", player_score)     #confirms current scores\n",
    "    \n",
    "    \n",
    "if cpu_score > player_score:           #when computer wins\n",
    "    print (\"COMPUTER WINS THE GAME\")\n",
    "elif player_score > cpu_score:         #when player wins\n",
    "    print (\"PLAYER WINS THE GAME\")\n",
    "else:                                  #when the scores are equal once the chosen number of rounds has been played\n",
    "    print (\"THE GAME ENDS IN A TIE\")\n"
   ]
  },
  {
   "cell_type": "code",
   "execution_count": null,
   "metadata": {},
   "outputs": [],
   "source": []
  }
 ],
 "metadata": {
  "kernelspec": {
   "display_name": "Python 3",
   "language": "python",
   "name": "python3"
  },
  "language_info": {
   "codemirror_mode": {
    "name": "ipython",
    "version": 3
   },
   "file_extension": ".py",
   "mimetype": "text/x-python",
   "name": "python",
   "nbconvert_exporter": "python",
   "pygments_lexer": "ipython3",
   "version": "3.8.5"
  }
 },
 "nbformat": 4,
 "nbformat_minor": 2
}
